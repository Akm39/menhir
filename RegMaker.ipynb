{
 "cells": [
  {
   "cell_type": "code",
   "execution_count": 44,
   "metadata": {},
   "outputs": [],
   "source": [
    "import pandas as pd\n",
    "import pickle as pkl\n",
    "import numpy as np"
   ]
  },
  {
   "cell_type": "code",
   "execution_count": 45,
   "metadata": {},
   "outputs": [],
   "source": [
    "def load_pkl(filepath):\n",
    "    with open(filepath, 'rb') as f:\n",
    "        return pkl.load(f)"
   ]
  },
  {
   "cell_type": "code",
   "execution_count": 46,
   "metadata": {},
   "outputs": [],
   "source": [
    "rets=load_pkl(\"Data Storage/ret_dict.pkl\")\n",
    "rvs=load_pkl(\"Data Storage/rv_dict.pkl\")"
   ]
  },
  {
   "cell_type": "code",
   "execution_count": 47,
   "metadata": {},
   "outputs": [],
   "source": [
    "all_dates=list(rets.keys())"
   ]
  },
  {
   "cell_type": "code",
   "execution_count": 48,
   "metadata": {},
   "outputs": [
    {
     "name": "stdout",
     "output_type": "stream",
     "text": [
      "NOT COMPUTED: 2014-11-13\n",
      "NOT COMPUTED: 2014-11-14\n",
      "NOT COMPUTED: 2014-11-17\n",
      "NOT COMPUTED: 2014-11-18\n",
      "NOT COMPUTED: 2014-11-19\n",
      "NOT COMPUTED: 2014-11-20\n",
      "NOT COMPUTED: 2014-11-21\n",
      "NOT COMPUTED: 2014-11-24\n",
      "NOT COMPUTED: 2014-11-25\n",
      "NOT COMPUTED: 2014-11-26\n",
      "NOT COMPUTED: 2014-11-28\n",
      "NOT COMPUTED: 2014-12-01\n",
      "NOT COMPUTED: 2014-12-02\n",
      "NOT COMPUTED: 2014-12-03\n"
     ]
    }
   ],
   "source": [
    "reg_thresh=15\n",
    "\n",
    "for i in range(len(all_dates)):\n",
    "\n",
    "    if (i+1)<reg_thresh:\n",
    "        print('NOT COMPUTED: '+all_dates[i])\n",
    "    else:\n",
    "        ret_list=[]\n",
    "        rv_list=[]\n",
    "        for j in range(reg_thresh):\n",
    "            ret_list.append(rets[all_dates[i-j]])\n",
    "            rv_list.append(rvs[all_dates[i-j]])\n",
    "        rv_temp=pd.concat(rv_list)\n",
    "        ret_temp=pd.concat(ret_list)\n",
    "        break\n",
    "\n",
    "    "
   ]
  },
  {
   "cell_type": "code",
   "execution_count": 52,
   "metadata": {},
   "outputs": [],
   "source": [
    "ticker='AAL'\n",
    "\n",
    "cols=pd.concat([rv_temp[ticker],ret_temp[ticker]],axis=1).dropna()\n",
    "cols.columns=['RV','RET']"
   ]
  },
  {
   "cell_type": "code",
   "execution_count": 54,
   "metadata": {},
   "outputs": [],
   "source": [
    "cols['RVxRET']=cols['RV']*cols['RET']"
   ]
  },
  {
   "cell_type": "code",
   "execution_count": 55,
   "metadata": {},
   "outputs": [
    {
     "data": {
      "text/html": [
       "<div>\n",
       "<style scoped>\n",
       "    .dataframe tbody tr th:only-of-type {\n",
       "        vertical-align: middle;\n",
       "    }\n",
       "\n",
       "    .dataframe tbody tr th {\n",
       "        vertical-align: top;\n",
       "    }\n",
       "\n",
       "    .dataframe thead th {\n",
       "        text-align: right;\n",
       "    }\n",
       "</style>\n",
       "<table border=\"1\" class=\"dataframe\">\n",
       "  <thead>\n",
       "    <tr style=\"text-align: right;\">\n",
       "      <th></th>\n",
       "      <th>RV</th>\n",
       "      <th>RET</th>\n",
       "      <th>RVxRET</th>\n",
       "    </tr>\n",
       "    <tr>\n",
       "      <th>DT</th>\n",
       "      <th></th>\n",
       "      <th></th>\n",
       "      <th></th>\n",
       "    </tr>\n",
       "  </thead>\n",
       "  <tbody>\n",
       "    <tr>\n",
       "      <th>2014-12-04 09:30:00</th>\n",
       "      <td>10.683260</td>\n",
       "      <td>-0.002218</td>\n",
       "      <td>-0.023693</td>\n",
       "    </tr>\n",
       "    <tr>\n",
       "      <th>2014-12-04 09:35:00</th>\n",
       "      <td>4.271757</td>\n",
       "      <td>0.002344</td>\n",
       "      <td>0.010013</td>\n",
       "    </tr>\n",
       "    <tr>\n",
       "      <th>2014-12-04 09:40:00</th>\n",
       "      <td>2.965638</td>\n",
       "      <td>-0.002738</td>\n",
       "      <td>-0.008119</td>\n",
       "    </tr>\n",
       "    <tr>\n",
       "      <th>2014-12-04 09:45:00</th>\n",
       "      <td>3.405838</td>\n",
       "      <td>0.006060</td>\n",
       "      <td>0.020640</td>\n",
       "    </tr>\n",
       "    <tr>\n",
       "      <th>2014-12-04 09:50:00</th>\n",
       "      <td>1.974487</td>\n",
       "      <td>-0.000201</td>\n",
       "      <td>-0.000397</td>\n",
       "    </tr>\n",
       "    <tr>\n",
       "      <th>...</th>\n",
       "      <td>...</td>\n",
       "      <td>...</td>\n",
       "      <td>...</td>\n",
       "    </tr>\n",
       "    <tr>\n",
       "      <th>2014-11-28 12:40:00</th>\n",
       "      <td>4.072665</td>\n",
       "      <td>-0.004944</td>\n",
       "      <td>-0.020137</td>\n",
       "    </tr>\n",
       "    <tr>\n",
       "      <th>2014-11-28 12:45:00</th>\n",
       "      <td>4.191499</td>\n",
       "      <td>0.000826</td>\n",
       "      <td>0.003463</td>\n",
       "    </tr>\n",
       "    <tr>\n",
       "      <th>2014-11-28 12:50:00</th>\n",
       "      <td>5.746504</td>\n",
       "      <td>-0.001156</td>\n",
       "      <td>-0.006645</td>\n",
       "    </tr>\n",
       "    <tr>\n",
       "      <th>2014-11-28 12:55:00</th>\n",
       "      <td>5.968153</td>\n",
       "      <td>0.005095</td>\n",
       "      <td>0.030407</td>\n",
       "    </tr>\n",
       "    <tr>\n",
       "      <th>2014-11-28 13:00:00</th>\n",
       "      <td>1.460030</td>\n",
       "      <td>0.000000</td>\n",
       "      <td>0.000000</td>\n",
       "    </tr>\n",
       "  </tbody>\n",
       "</table>\n",
       "<p>358 rows × 3 columns</p>\n",
       "</div>"
      ],
      "text/plain": [
       "                            RV       RET    RVxRET\n",
       "DT                                                \n",
       "2014-12-04 09:30:00  10.683260 -0.002218 -0.023693\n",
       "2014-12-04 09:35:00   4.271757  0.002344  0.010013\n",
       "2014-12-04 09:40:00   2.965638 -0.002738 -0.008119\n",
       "2014-12-04 09:45:00   3.405838  0.006060  0.020640\n",
       "2014-12-04 09:50:00   1.974487 -0.000201 -0.000397\n",
       "...                        ...       ...       ...\n",
       "2014-11-28 12:40:00   4.072665 -0.004944 -0.020137\n",
       "2014-11-28 12:45:00   4.191499  0.000826  0.003463\n",
       "2014-11-28 12:50:00   5.746504 -0.001156 -0.006645\n",
       "2014-11-28 12:55:00   5.968153  0.005095  0.030407\n",
       "2014-11-28 13:00:00   1.460030  0.000000  0.000000\n",
       "\n",
       "[358 rows x 3 columns]"
      ]
     },
     "execution_count": 55,
     "metadata": {},
     "output_type": "execute_result"
    }
   ],
   "source": [
    "cols"
   ]
  },
  {
   "cell_type": "code",
   "execution_count": null,
   "metadata": {},
   "outputs": [],
   "source": []
  }
 ],
 "metadata": {
  "kernelspec": {
   "display_name": "Python 3",
   "language": "python",
   "name": "python3"
  },
  "language_info": {
   "codemirror_mode": {
    "name": "ipython",
    "version": 3
   },
   "file_extension": ".py",
   "mimetype": "text/x-python",
   "name": "python",
   "nbconvert_exporter": "python",
   "pygments_lexer": "ipython3",
   "version": "3.11.5"
  }
 },
 "nbformat": 4,
 "nbformat_minor": 2
}
